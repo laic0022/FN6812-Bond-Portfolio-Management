{
 "cells": [
  {
   "cell_type": "code",
   "execution_count": 1,
   "metadata": {},
   "outputs": [
    {
     "data": {
      "text/plain": [
       "{'UK': 0.0584,\n",
       " 'US': 0.0297,\n",
       " 'Singapore': 0.0104,\n",
       " 'Argentina': 0.4656999999999999}"
      ]
     },
     "execution_count": 1,
     "metadata": {},
     "output_type": "execute_result"
    }
   ],
   "source": [
    "import numpy as np\n",
    "\n",
    "# Spot rates given in the image for 1 year and 2 years, respectively\n",
    "spot_rates = {\n",
    "    'UK': (4.58 / 100, 5.21 / 100),\n",
    "    'US': (2.11 / 100, 2.54 / 100),\n",
    "    'Singapore': (0.40 / 100, 0.72 / 100),\n",
    "    'Argentina': (31.25 / 100, 38.91 / 100)\n",
    "}\n",
    "\n",
    "# Calculate forward rates using the formula F = 2*S2 - S1\n",
    "forward_rates = {country: 2 * s2 - s1 for country, (s1, s2) in spot_rates.items()}\n",
    "forward_rates\n"
   ]
  },
  {
   "cell_type": "code",
   "execution_count": 2,
   "metadata": {},
   "outputs": [
    {
     "data": {
      "text/plain": [
       "{'UK': 0.06230000000000001,\n",
       " 'US': 0.0305,\n",
       " 'Singapore': 0.015299999999999998,\n",
       " 'Argentina': 0.4224000000000002}"
      ]
     },
     "execution_count": 2,
     "metadata": {},
     "output_type": "execute_result"
    }
   ],
   "source": [
    "# Re-import numpy since the execution state was reset and re-define the given spot rates for calculation\n",
    "import numpy as np\n",
    "\n",
    "# Spot rates given for 2 years and 3 years, respectively, converting percentages to decimals\n",
    "spot_rates_2_and_3_years = {\n",
    "    'UK': (5.21 / 100, 5.55 / 100),\n",
    "    'US': (2.54 / 100, 2.71 / 100),\n",
    "    'Singapore': (0.72 / 100, 0.99 / 100),\n",
    "    'Argentina': (38.91 / 100, 40.02 / 100)\n",
    "}\n",
    "\n",
    "# Calculate forward rates using the formula F = ((t2 * S_t2) - (t1 * S_t1)) / (t2 - t1)\n",
    "forward_rates_one_year_from_two_years = {\n",
    "    country: ((3 * s3) - (2 * s2)) / (3 - 2) for country, (s2, s3) in spot_rates_2_and_3_years.items()\n",
    "}\n",
    "forward_rates_one_year_from_two_years\n"
   ]
  },
  {
   "cell_type": "code",
   "execution_count": 3,
   "metadata": {},
   "outputs": [
    {
     "data": {
      "text/plain": [
       "{'GBP': {'1yr': 2.075121527030427,\n",
       "  '2yr': 1.9778684397045654,\n",
       "  '3yr': 1.8870593524138568},\n",
       " 'USD': {'1yr': 1.3919824208039613,\n",
       "  '2yr': 1.365374750024612,\n",
       "  '3yr': 1.3447779857872824},\n",
       " 'ARS': {'1yr': 0.011166597969331785,\n",
       "  '2yr': 0.007082500321696466,\n",
       "  '3yr': 0.004713953772998052}}"
      ]
     },
     "execution_count": 3,
     "metadata": {},
     "output_type": "execute_result"
    }
   ],
   "source": [
    "# Current spot exchange rates given in SGD for GBP, USD, and ARS\n",
    "spot_exchange_rates = {\n",
    "    'GBP': 2.1637,\n",
    "    'USD': 1.41599,\n",
    "    'ARS': 0.015202\n",
    "}\n",
    "\n",
    "# Interest rates for Singapore (domestic), taken from the previous tasks\n",
    "interest_rate_SG = {\n",
    "    '1yr': 0.40 / 100,\n",
    "    '2yr': 0.72 / 100,\n",
    "    '3yr': 0.99 / 100\n",
    "}\n",
    "\n",
    "# Interest rates for UK (GBP), US (USD), and Argentina (ARS) for 1, 2 and 3 years\n",
    "interest_rates_foreign = {\n",
    "    'GBP': (4.58 / 100, 5.21 / 100, 5.55 / 100),\n",
    "    'USD': (2.11 / 100, 2.54 / 100, 2.71 / 100),\n",
    "    'ARS': (31.25 / 100, 38.91 / 100, 40.02 / 100)\n",
    "}\n",
    "\n",
    "# Calculate forward prices for each currency and time period\n",
    "forward_prices = {}\n",
    "for currency, spot_rate in spot_exchange_rates.items():\n",
    "    forward_prices[currency] = {}\n",
    "    for time in ['1yr', '2yr', '3yr']:\n",
    "        rd = interest_rate_SG[time]\n",
    "        rf = interest_rates_foreign[currency][int(time[0]) - 1]\n",
    "        time_years = int(time[0])\n",
    "        # Applying the interest rate parity formula\n",
    "        forward_price = spot_rate * np.exp((rd - rf) * time_years)\n",
    "        forward_prices[currency][time] = forward_price\n",
    "\n",
    "forward_prices\n"
   ]
  },
  {
   "cell_type": "code",
   "execution_count": null,
   "metadata": {},
   "outputs": [],
   "source": []
  }
 ],
 "metadata": {
  "kernelspec": {
   "display_name": "OneDrive",
   "language": "python",
   "name": "python3"
  },
  "language_info": {
   "codemirror_mode": {
    "name": "ipython",
    "version": 3
   },
   "file_extension": ".py",
   "mimetype": "text/x-python",
   "name": "python",
   "nbconvert_exporter": "python",
   "pygments_lexer": "ipython3",
   "version": "3.11.5"
  }
 },
 "nbformat": 4,
 "nbformat_minor": 2
}
